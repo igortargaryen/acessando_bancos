{
 "cells": [
  {
   "cell_type": "markdown",
   "metadata": {},
   "source": [
    "# Acessar BD Oracle Localhost (PYTHON)"
   ]
  },
  {
   "cell_type": "code",
   "execution_count": 14,
   "metadata": {},
   "outputs": [],
   "source": [
    "# Carregamento das Bibliotecas\n",
    "import pandas as pd\n",
    "import oracledb"
   ]
  },
  {
   "cell_type": "code",
   "execution_count": null,
   "metadata": {},
   "outputs": [],
   "source": [
    "# Informando local do Oracle localhost\n",
    "try:\n",
    "    oracledb.init_oracle_client(lib_dir=\"C:/oracle/instantclient\")\n",
    "except oracledb.ProgrammingError:\n",
    "    pass  # Ignora erro caso já tenha sido chamado"
   ]
  },
  {
   "cell_type": "code",
   "execution_count": null,
   "metadata": {},
   "outputs": [],
   "source": [
    "# Configurar a conexão com o banco\n",
    "conn = oracledb.connect(\n",
    "    user=\"DigiteAqui\",\n",
    "    password=\"DigiteAqui\",\n",
    "    dsn=\"localhost/XE\"  # Altere conforme seu banco (ex: \"localhost/XE\" para Oracle XE)\n",
    ")"
   ]
  },
  {
   "cell_type": "code",
   "execution_count": 11,
   "metadata": {},
   "outputs": [],
   "source": [
    "# Criar um cursor\n",
    "cursor = conn.cursor()"
   ]
  },
  {
   "cell_type": "code",
   "execution_count": null,
   "metadata": {},
   "outputs": [],
   "source": [
    "# Testar conexão: listar todas as tabelas do usuário\n",
    "cursor.execute(\"SELECT table_name FROM user_tables\")\n",
    "for row in cursor.fetchall():\n",
    "    print(row)"
   ]
  },
  {
   "cell_type": "code",
   "execution_count": null,
   "metadata": {},
   "outputs": [],
   "source": [
    "# Acessando a tabela/view e carregando Dataframe\n",
    "query = \"SELECT * FROM vw_domicilios_quantidade_domicilios_consolidado\"\n",
    "df = pd.read_sql(query, conn)\n",
    "\n",
    "# Exibir as primeiras linhas\n",
    "print(df.head())"
   ]
  }
 ],
 "metadata": {
  "kernelspec": {
   "display_name": "base",
   "language": "python",
   "name": "python3"
  },
  "language_info": {
   "codemirror_mode": {
    "name": "ipython",
    "version": 3
   },
   "file_extension": ".py",
   "mimetype": "text/x-python",
   "name": "python",
   "nbconvert_exporter": "python",
   "pygments_lexer": "ipython3",
   "version": "3.12.7"
  }
 },
 "nbformat": 4,
 "nbformat_minor": 2
}
