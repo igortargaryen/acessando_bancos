{
 "cells": [
  {
   "cell_type": "markdown",
   "metadata": {},
   "source": [
    "# Acessar BD Oracle Localhost (R)"
   ]
  },
  {
   "cell_type": "code",
   "execution_count": null,
   "metadata": {
    "vscode": {
     "languageId": "r"
    }
   },
   "outputs": [],
   "source": [
    "# Carregamento das Bibliotecas\n",
    "library(DBI)\n",
    "library(odbc)"
   ]
  },
  {
   "cell_type": "code",
   "execution_count": null,
   "metadata": {
    "vscode": {
     "languageId": "r"
    }
   },
   "outputs": [],
   "source": [
    "# Criar conexão com Oracle\n",
    "con <- dbConnect(odbc::odbc(),\n",
    "                 Driver = \"Oracle em OraClient12Home1\",  # Verifique o nome correto do seu driver\n",
    "                 DBQ = \"localhost/XE\",          # Altere para o seu service name\n",
    "                 UID = \"DigiteAqui\",\n",
    "                 PWD = \"DigiteAqui\",\n",
    "                 Encoding = \"UTF-8\")\n",
    "\n",
    "# Verificar se a conexão foi bem-sucedida\n",
    "dbListTables(con)  # Lista as tabelas do banco\n"
   ]
  },
  {
   "cell_type": "code",
   "execution_count": null,
   "metadata": {
    "vscode": {
     "languageId": "r"
    }
   },
   "outputs": [],
   "source": [
    "query <- \"SELECT * FROM vw_domicilios_quantidade_domicilios_consolidado\"\n",
    "df <- dbGetQuery(con, query)\n",
    "\n",
    "# Aplicar conversão apenas para colunas de texto\n",
    "df[] <- lapply(df, function(col) {\n",
    "  if (is.character(col)) {\n",
    "    col <- iconv(col, from = \"latin1\", to = \"UTF-8\", sub = \"byte\")  # Ajuste conforme necessário\n",
    "  }\n",
    "  return(col)\n",
    "})\n",
    "\n",
    "# Verifique os primeiros dados\n",
    "head(df)\n"
   ]
  }
 ],
 "metadata": {
  "kernelspec": {
   "display_name": "R",
   "language": "R",
   "name": "ir"
  },
  "language_info": {
   "codemirror_mode": "r",
   "file_extension": ".r",
   "mimetype": "text/x-r-source",
   "name": "R",
   "pygments_lexer": "r",
   "version": "4.3.2"
  }
 },
 "nbformat": 4,
 "nbformat_minor": 2
}
